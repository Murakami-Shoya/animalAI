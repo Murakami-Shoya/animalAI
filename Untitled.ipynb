{
 "cells": [
  {
   "cell_type": "code",
   "execution_count": 3,
   "metadata": {},
   "outputs": [],
   "source": [
    "from PIL import Image\n",
    "import os, glob\n",
    "import numpy as np\n",
    "from sklearn import model_selection\n",
    "\n",
    "classes = [\"monkey\", \"boar\", \"crow\"]\n",
    "#クラスの数\n",
    "num_classes = len(classes)\n",
    "image_size = 50\n",
    "\n",
    "#画像の読み込み\n",
    "X = []\n",
    "Y = []\n",
    "\n",
    "for index, classlabel in enumerate(classes):\n",
    "    photos_dir = './' + classlabel\n",
    "    files = glob.glob(photos_dir + \"/*.jpg\")\n",
    "    for i, file in enumerate(files):\n",
    "        if i > 200: break\n",
    "        image = Image.open(file)\n",
    "        image = image.convert(\"RGB\")\n",
    "        image = image.resize((image_size, image_size))\n",
    "        data = np.asanyarray(image)\n",
    "        X.append(data)\n",
    "        Y.append(data)\n",
    "X = np.array(X)\n",
    "Y = np.array(Y)\n",
    "\n",
    "X_train, X_test, Y_train, Y_test = model_selection.train_test_split(X, Y)\n",
    "xy = (X_train, X_test, Y_train, Y_test)\n",
    "np.save(\"./animal.npy\", xy)"
   ]
  },
  {
   "cell_type": "code",
   "execution_count": 4,
   "metadata": {},
   "outputs": [
    {
     "data": {
      "text/plain": [
       "451"
      ]
     },
     "execution_count": 4,
     "metadata": {},
     "output_type": "execute_result"
    }
   ],
   "source": [
    "len(X_train)"
   ]
  },
  {
   "cell_type": "code",
   "execution_count": 5,
   "metadata": {},
   "outputs": [
    {
     "data": {
      "text/plain": [
       "151"
      ]
     },
     "execution_count": 5,
     "metadata": {},
     "output_type": "execute_result"
    }
   ],
   "source": [
    "len(X_test)"
   ]
  },
  {
   "cell_type": "code",
   "execution_count": 6,
   "metadata": {},
   "outputs": [
    {
     "data": {
      "text/plain": [
       "451"
      ]
     },
     "execution_count": 6,
     "metadata": {},
     "output_type": "execute_result"
    }
   ],
   "source": [
    "len(Y_train)"
   ]
  },
  {
   "cell_type": "code",
   "execution_count": 7,
   "metadata": {},
   "outputs": [
    {
     "data": {
      "text/plain": [
       "array([[[106, 166, 194],\n",
       "        [109, 167, 195],\n",
       "        [112, 169, 196],\n",
       "        ...,\n",
       "        [113, 170, 200],\n",
       "        [112, 169, 199],\n",
       "        [110, 167, 197]],\n",
       "\n",
       "       [[109, 167, 196],\n",
       "        [111, 169, 196],\n",
       "        [114, 171, 198],\n",
       "        ...,\n",
       "        [115, 172, 202],\n",
       "        [114, 171, 201],\n",
       "        [112, 169, 199]],\n",
       "\n",
       "       [[112, 169, 196],\n",
       "        [114, 171, 199],\n",
       "        [119, 175, 201],\n",
       "        ...,\n",
       "        [118, 175, 204],\n",
       "        [116, 171, 202],\n",
       "        [114, 169, 200]],\n",
       "\n",
       "       ...,\n",
       "\n",
       "       [[126, 186, 217],\n",
       "        [ 86,  95, 102],\n",
       "        [ 72,  38,  37],\n",
       "        ...,\n",
       "        [108,  61,  35],\n",
       "        [ 96,  93,  76],\n",
       "        [117, 180, 213]],\n",
       "\n",
       "       [[112, 159, 179],\n",
       "        [ 58,  33,  19],\n",
       "        [100, 120, 138],\n",
       "        ...,\n",
       "        [128,  94,  74],\n",
       "        [ 98,  69,  49],\n",
       "        [ 92,  97, 110]],\n",
       "\n",
       "       [[ 66,  73,  84],\n",
       "        [ 65,  55,  57],\n",
       "        [127, 186, 208],\n",
       "        ...,\n",
       "        [114,  89,  75],\n",
       "        [ 65,  22,   0],\n",
       "        [ 72,  53,  39]]], dtype=uint8)"
      ]
     },
     "execution_count": 7,
     "metadata": {},
     "output_type": "execute_result"
    }
   ],
   "source": [
    "X_train[100]"
   ]
  },
  {
   "cell_type": "code",
   "execution_count": 8,
   "metadata": {},
   "outputs": [
    {
     "data": {
      "text/plain": [
       "array([[[ 62,  62,  37],\n",
       "        [ 77,  78,  47],\n",
       "        [133, 134, 103],\n",
       "        ...,\n",
       "        [206, 187, 138],\n",
       "        [213, 196, 151],\n",
       "        [188, 172, 129]],\n",
       "\n",
       "       [[111, 112,  81],\n",
       "        [ 82,  84,  48],\n",
       "        [ 74,  77,  44],\n",
       "        ...,\n",
       "        [203, 190, 140],\n",
       "        [210, 194, 150],\n",
       "        [178, 163, 121]],\n",
       "\n",
       "       [[142, 140, 102],\n",
       "        [120, 120,  80],\n",
       "        [ 76,  78,  41],\n",
       "        ...,\n",
       "        [194, 182, 136],\n",
       "        [199, 185, 138],\n",
       "        [158, 143,  99]],\n",
       "\n",
       "       ...,\n",
       "\n",
       "       [[ 69,  71,  55],\n",
       "        [ 90,  92,  73],\n",
       "        [101, 104,  83],\n",
       "        ...,\n",
       "        [129, 129, 105],\n",
       "        [125, 126,  94],\n",
       "        [ 97,  98,  65]],\n",
       "\n",
       "       [[ 59,  61,  40],\n",
       "        [ 71,  73,  52],\n",
       "        [ 76,  79,  57],\n",
       "        ...,\n",
       "        [134, 132, 107],\n",
       "        [141, 136, 106],\n",
       "        [126, 121,  91]],\n",
       "\n",
       "       [[ 46,  48,  27],\n",
       "        [ 56,  58,  36],\n",
       "        [ 60,  62,  40],\n",
       "        ...,\n",
       "        [136, 132, 106],\n",
       "        [139, 134, 104],\n",
       "        [130, 125,  95]]], dtype=uint8)"
      ]
     },
     "execution_count": 8,
     "metadata": {},
     "output_type": "execute_result"
    }
   ],
   "source": [
    "X_train[0]"
   ]
  },
  {
   "cell_type": "code",
   "execution_count": 9,
   "metadata": {},
   "outputs": [
    {
     "data": {
      "text/plain": [
       "array([[[ 32,  32,  32],\n",
       "        [ 38,  38,  38],\n",
       "        [ 42,  42,  42],\n",
       "        ...,\n",
       "        [ 41,  41,  41],\n",
       "        [ 37,  37,  37],\n",
       "        [ 35,  35,  35]],\n",
       "\n",
       "       [[ 21,  21,  21],\n",
       "        [ 55,  55,  55],\n",
       "        [ 39,  39,  39],\n",
       "        ...,\n",
       "        [ 39,  39,  39],\n",
       "        [ 40,  40,  40],\n",
       "        [ 39,  39,  39]],\n",
       "\n",
       "       [[ 27,  27,  27],\n",
       "        [ 59,  59,  59],\n",
       "        [ 51,  51,  51],\n",
       "        ...,\n",
       "        [ 36,  36,  36],\n",
       "        [ 37,  37,  37],\n",
       "        [ 35,  35,  35]],\n",
       "\n",
       "       ...,\n",
       "\n",
       "       [[ 17,  17,  17],\n",
       "        [ 28,  28,  28],\n",
       "        [ 44,  44,  44],\n",
       "        ...,\n",
       "        [ 61,  61,  61],\n",
       "        [ 17,  17,  17],\n",
       "        [ 44,  44,  44]],\n",
       "\n",
       "       [[117, 117, 117],\n",
       "        [124, 124, 124],\n",
       "        [148, 148, 148],\n",
       "        ...,\n",
       "        [154, 154, 154],\n",
       "        [100, 100, 100],\n",
       "        [106, 106, 106]],\n",
       "\n",
       "       [[ 12,  12,  12],\n",
       "        [  7,   7,   7],\n",
       "        [ 18,  18,  18],\n",
       "        ...,\n",
       "        [  9,   9,   9],\n",
       "        [ 13,  13,  13],\n",
       "        [ 15,  15,  15]]], dtype=uint8)"
      ]
     },
     "execution_count": 9,
     "metadata": {},
     "output_type": "execute_result"
    }
   ],
   "source": [
    "X_train[151]"
   ]
  },
  {
   "cell_type": "code",
   "execution_count": 15,
   "metadata": {},
   "outputs": [],
   "source": [
    "from PIL import Image\n",
    "import os, glob\n",
    "import numpy as np\n",
    "from sklearn import model_selection\n",
    "\n",
    "classes = [\"monkey\", \"boar\", \"crow\"]\n",
    "#クラスの数\n",
    "num_classes = len(classes)\n",
    "image_size = 50\n",
    "\n",
    "#画像の読み込み\n",
    "X = []\n",
    "Y = []\n",
    "\n",
    "for index, classlabel in enumerate(classes):\n",
    "    photos_dir = './' + classlabel\n",
    "    files = glob.glob(photos_dir + \"/*.jpg\")\n",
    "    for i, file in enumerate(files):\n",
    "        if i >=200: break\n",
    "        image = Image.open(file)\n",
    "        image = image.convert(\"RGB\")\n",
    "        image = image.resize((image_size, image_size))\n",
    "        data = np.asanyarray(image)\n",
    "        X.append(data)\n",
    "        Y.append(data)\n",
    "X = np.array(X)\n",
    "Y = np.array(Y)\n",
    "\n",
    "X_train, X_test, y_train, y_test = model_selection.train_test_split(X, Y)\n",
    "xy = (X_train, X_test, y_train, y_test)\n",
    "np.save(\"./animal.npy\", xy)"
   ]
  },
  {
   "cell_type": "code",
   "execution_count": 11,
   "metadata": {},
   "outputs": [
    {
     "data": {
      "text/plain": [
       "451"
      ]
     },
     "execution_count": 11,
     "metadata": {},
     "output_type": "execute_result"
    }
   ],
   "source": [
    "len(X_train)"
   ]
  },
  {
   "cell_type": "code",
   "execution_count": 12,
   "metadata": {},
   "outputs": [
    {
     "data": {
      "text/plain": [
       "4"
      ]
     },
     "execution_count": 12,
     "metadata": {},
     "output_type": "execute_result"
    }
   ],
   "source": [
    "len(xy)"
   ]
  },
  {
   "cell_type": "code",
   "execution_count": 13,
   "metadata": {},
   "outputs": [
    {
     "data": {
      "text/plain": [
       "602"
      ]
     },
     "execution_count": 13,
     "metadata": {},
     "output_type": "execute_result"
    }
   ],
   "source": [
    "len(X)\n"
   ]
  },
  {
   "cell_type": "code",
   "execution_count": 16,
   "metadata": {},
   "outputs": [
    {
     "data": {
      "text/plain": [
       "600"
      ]
     },
     "execution_count": 16,
     "metadata": {},
     "output_type": "execute_result"
    }
   ],
   "source": [
    "len(X)"
   ]
  },
  {
   "cell_type": "code",
   "execution_count": 10,
   "metadata": {},
   "outputs": [
    {
     "data": {
      "image/png": "[encoded data removed]",
      "text/plain": [
       "<Figure size 432x288 with 1 Axes>"
      ]
     },
     "metadata": {
      "needs_background": "light"
     },
     "output_type": "display_data"
    }
   ],
   "source": [
    "from PIL import Image\n",
    "import os, glob\n",
    "import numpy as np\n",
    "from sklearn import model_selection\n",
    "import matplotlib.pyplot as plt\n",
    "\n",
    "classes = [\"monkey\", \"boar\", \"crow\"]\n",
    "#クラスの数\n",
    "num_classes = len(classes)\n",
    "image_size = 50\n",
    "\n",
    "#画像の読み込み\n",
    "X = []\n",
    "Y = []\n",
    "\n",
    "for index, classlabel in enumerate(classes):\n",
    "    photos_dir = './' + classlabel\n",
    "    files = glob.glob(photos_dir + \"/*.jpg\")\n",
    "    for i, file in enumerate(files):\n",
    "        if i > 200: break\n",
    "        image = Image.open(file)\n",
    "        image = image.convert(\"RGB\")\n",
    "        image = image.resize((image_size, image_size))\n",
    "        \n",
    "        data = np.asanyarray(image)\n",
    "        X.append(data)\n",
    "        Y.append(data)\n",
    "X = np.array(X)\n",
    "Y = np.array(Y)\n",
    "\n",
    "X_train, X_test, Y_train, Y_test = model_selection.train_test_split(X, Y)\n",
    "xy = (X_train, X_test, Y_train, Y_test)\n",
    "np.save(\"./animal.npy\", xy)"
   ]
  },
  {
   "cell_type": "code",
   "execution_count": 11,
   "metadata": {},
   "outputs": [],
   "source": [
    "from PIL import Image\n",
    "import os, glob\n",
    "import numpy as np\n",
    "from sklearn import model_selection\n",
    "\n",
    "classes = [\"monkey\", \"boar\", \"crow\"]\n",
    "#クラスの数\n",
    "num_classes = len(classes)\n",
    "image_size = 50\n",
    "\n",
    "#画像の読み込み\n",
    "X = []\n",
    "Y = []\n",
    "\n",
    "for index, classlabel in enumerate(classes):\n",
    "    photos_dir = './' + classlabel\n",
    "    files = glob.glob(photos_dir + \"/*.jpg\")\n",
    "    for i, file in enumerate(files):\n",
    "        if i >= 200: break\n",
    "        image = Image.open(file)\n",
    "        image = image.convert(\"RGB\")\n",
    "        image = image.resize((image_size, image_size))\n",
    "        data = np.asanyarray(image)\n",
    "        X.append(data)\n",
    "        Y.append(index)\n",
    "X = np.array(X)\n",
    "Y = np.array(Y)\n",
    "\n",
    "X_train, X_test, y_train, y_test = model_selection.train_test_split(X, Y)\n",
    "xy = (X_train, X_test, y_train, y_test)\n",
    "# xyをテキストファイルとして保存\n",
    "np.save(\"./animal.npy\", xy)"
   ]
  },
  {
   "cell_type": "code",
   "execution_count": 13,
   "metadata": {},
   "outputs": [
    {
     "data": {
      "text/plain": [
       "450"
      ]
     },
     "execution_count": 13,
     "metadata": {},
     "output_type": "execute_result"
    }
   ],
   "source": [
    "len(X_train)"
   ]
  },
  {
   "cell_type": "code",
   "execution_count": 14,
   "metadata": {},
   "outputs": [
    {
     "data": {
      "text/plain": [
       "150"
      ]
     },
     "execution_count": 14,
     "metadata": {},
     "output_type": "execute_result"
    }
   ],
   "source": [
    "len(X_test)"
   ]
  },
  {
   "cell_type": "code",
   "execution_count": 16,
   "metadata": {},
   "outputs": [
    {
     "data": {
      "text/plain": [
       "450"
      ]
     },
     "execution_count": 16,
     "metadata": {},
     "output_type": "execute_result"
    }
   ],
   "source": [
    "len(y_train)"
   ]
  },
  {
   "cell_type": "code",
   "execution_count": 22,
   "metadata": {},
   "outputs": [
    {
     "data": {
      "text/plain": [
       "array([[[ 23,  48,  22],\n",
       "        [ 34,  50,  24],\n",
       "        [ 33,  52,  28],\n",
       "        ...,\n",
       "        [120, 165, 126],\n",
       "        [123, 171, 138],\n",
       "        [ 83, 135,  81]],\n",
       "\n",
       "       [[ 43,  54,  34],\n",
       "        [ 40,  54,  32],\n",
       "        [ 23,  47,  28],\n",
       "        ...,\n",
       "        [113, 159, 121],\n",
       "        [100, 154, 111],\n",
       "        [ 51,  98,  48]],\n",
       "\n",
       "       [[ 31,  52,  30],\n",
       "        [ 43,  59,  39],\n",
       "        [ 37,  55,  41],\n",
       "        ...,\n",
       "        [122, 161, 108],\n",
       "        [ 97, 123,  86],\n",
       "        [ 65,  79,  54]],\n",
       "\n",
       "       ...,\n",
       "\n",
       "       [[188, 179, 182],\n",
       "        [211, 199, 206],\n",
       "        [169, 157, 149],\n",
       "        ...,\n",
       "        [124, 120, 115],\n",
       "        [111, 110, 105],\n",
       "        [130, 130, 125]],\n",
       "\n",
       "       [[153, 141, 140],\n",
       "        [172, 171, 171],\n",
       "        [160, 158, 157],\n",
       "        ...,\n",
       "        [123, 120, 118],\n",
       "        [ 76,  72,  72],\n",
       "        [132, 126, 123]],\n",
       "\n",
       "       [[152, 143, 134],\n",
       "        [125, 124, 114],\n",
       "        [155, 147, 137],\n",
       "        ...,\n",
       "        [117, 111, 110],\n",
       "        [ 97,  93,  91],\n",
       "        [116, 109, 106]]], dtype=uint8)"
      ]
     },
     "execution_count": 22,
     "metadata": {},
     "output_type": "execute_result"
    }
   ],
   "source": [
    "X_train[0]"
   ]
  },
  {
   "cell_type": "code",
   "execution_count": 23,
   "metadata": {},
   "outputs": [
    {
     "data": {
      "text/plain": [
       "array([1, 0, 1, 2, 1, 0, 2, 0, 0, 2, 2, 1, 0, 1, 0, 2, 0, 1, 0, 0, 0, 2,\n",
       "       1, 2, 0, 1, 2, 0, 0, 0, 0, 1, 0, 1, 1, 1, 0, 0, 0, 2, 0, 0, 1, 0,\n",
       "       1, 1, 1, 2, 1, 0, 2, 0, 0, 0, 0, 1, 1, 2, 0, 1, 2, 1, 2, 2, 1, 1,\n",
       "       2, 1, 0, 0, 2, 2, 1, 2, 0, 2, 2, 2, 1, 0, 1, 1, 1, 1, 0, 2, 2, 0,\n",
       "       1, 1, 2, 1, 1, 0, 2, 1, 1, 0, 0, 2, 1, 1, 2, 0, 2, 0, 1, 1, 0, 1,\n",
       "       0, 2, 2, 1, 0, 0, 0, 0, 1, 0, 2, 1, 1, 1, 0, 0, 2, 0, 0, 2, 2, 2,\n",
       "       2, 0, 1, 1, 0, 1, 1, 0, 1, 0, 0, 1, 1, 1, 0, 2, 2, 2, 0, 2, 2, 0,\n",
       "       1, 0, 0, 2, 1, 1, 1, 1, 1, 0, 2, 1, 1, 1, 0, 2, 2, 0, 2, 0, 2, 1,\n",
       "       2, 1, 2, 2, 1, 2, 1, 0, 2, 1, 1, 0, 0, 2, 2, 2, 2, 0, 0, 1, 2, 2,\n",
       "       1, 1, 0, 0, 2, 1, 0, 2, 0, 2, 0, 2, 0, 2, 0, 0, 1, 1, 2, 2, 2, 0,\n",
       "       1, 0, 2, 1, 0, 1, 0, 0, 0, 1, 2, 1, 0, 2, 2, 0, 2, 2, 1, 2, 0, 2,\n",
       "       2, 2, 2, 0, 0, 1, 2, 2, 2, 2, 2, 2, 1, 0, 2, 2, 2, 1, 0, 0, 0, 1,\n",
       "       0, 2, 2, 0, 2, 2, 2, 1, 2, 2, 2, 0, 0, 0, 1, 1, 2, 1, 2, 0, 0, 1,\n",
       "       2, 0, 2, 1, 2, 1, 2, 2, 1, 2, 2, 1, 1, 0, 0, 0, 2, 0, 0, 1, 1, 1,\n",
       "       2, 1, 1, 0, 2, 1, 0, 0, 0, 2, 1, 2, 2, 1, 2, 0, 1, 0, 2, 1, 0, 0,\n",
       "       0, 2, 2, 1, 2, 1, 0, 1, 1, 1, 2, 1, 2, 0, 2, 0, 2, 0, 0, 1, 1, 2,\n",
       "       0, 2, 0, 1, 1, 1, 0, 2, 2, 1, 2, 2, 2, 2, 1, 1, 0, 1, 2, 2, 1, 0,\n",
       "       1, 1, 0, 0, 2, 2, 1, 0, 0, 2, 1, 0, 1, 2, 0, 1, 1, 1, 0, 1, 0, 0,\n",
       "       0, 1, 1, 1, 1, 2, 2, 1, 1, 2, 0, 1, 2, 0, 0, 0, 2, 2, 2, 2, 1, 2,\n",
       "       1, 0, 2, 0, 1, 1, 1, 1, 1, 0, 2, 0, 0, 2, 1, 0, 2, 2, 2, 2, 0, 1,\n",
       "       1, 0, 0, 0, 0, 1, 1, 1, 0, 0])"
      ]
     },
     "execution_count": 23,
     "metadata": {},
     "output_type": "execute_result"
    }
   ],
   "source": [
    "y_train"
   ]
  },
  {
   "cell_type": "code",
   "execution_count": 29,
   "metadata": {},
   "outputs": [
    {
     "data": {
      "text/plain": [
       "(array([  1, 100,  97,  94,  98]), array([  1, 100,  97,  94,  98]))"
      ]
     },
     "execution_count": 29,
     "metadata": {},
     "output_type": "execute_result"
    }
   ],
   "source": [
    "# 出木杉くんと同じ点数のしずかちゃんを生成する\n",
    "dekisugi = [95, 100, 97, 94, 98]\n",
    "\n",
    "dekisugi_arr = np.array(dekisugi)\n",
    "sizuka_arr = np.asarray(dekisugi_arr)\n",
    "\n",
    "dekisugi_arr[0] = 1\n",
    "\n",
    "dekisugi_arr, sizuka_arr"
   ]
  },
  {
   "cell_type": "code",
   "execution_count": 33,
   "metadata": {},
   "outputs": [
    {
     "data": {
      "text/plain": [
       "<matplotlib.image.AxesImage at 0x7fdd8e3abc18>"
      ]
     },
     "execution_count": 33,
     "metadata": {},
     "output_type": "execute_result"
    },
    {
     "data": {
      "image/png": "[encoded data removed]",
      "text/plain": [
       "<Figure size 432x288 with 1 Axes>"
      ]
     },
     "metadata": {
      "needs_background": "light"
     },
     "output_type": "display_data"
    }
   ],
   "source": [
    "plt.imshow(image)\n",
    "img_trans = image.transpose(Image.FLIP_LEFT_RIGHT)\n",
    "plt.imshow(img_trans)"
   ]
  },
  {
   "cell_type": "code",
   "execution_count": 34,
   "metadata": {},
   "outputs": [
    {
     "data": {
      "text/plain": [
       "numpy.ndarray"
      ]
     },
     "execution_count": 34,
     "metadata": {},
     "output_type": "execute_result"
    }
   ],
   "source": [
    "type(X_test)"
   ]
  },
  {
   "cell_type": "code",
   "execution_count": 35,
   "metadata": {},
   "outputs": [
    {
     "data": {
      "text/plain": [
       "array([[[[ 23,  48,  22],\n",
       "         [ 34,  50,  24],\n",
       "         [ 33,  52,  28],\n",
       "         ...,\n",
       "         [120, 165, 126],\n",
       "         [123, 171, 138],\n",
       "         [ 83, 135,  81]],\n",
       "\n",
       "        [[ 43,  54,  34],\n",
       "         [ 40,  54,  32],\n",
       "         [ 23,  47,  28],\n",
       "         ...,\n",
       "         [113, 159, 121],\n",
       "         [100, 154, 111],\n",
       "         [ 51,  98,  48]],\n",
       "\n",
       "        [[ 31,  52,  30],\n",
       "         [ 43,  59,  39],\n",
       "         [ 37,  55,  41],\n",
       "         ...,\n",
       "         [122, 161, 108],\n",
       "         [ 97, 123,  86],\n",
       "         [ 65,  79,  54]],\n",
       "\n",
       "        ...,\n",
       "\n",
       "        [[188, 179, 182],\n",
       "         [211, 199, 206],\n",
       "         [169, 157, 149],\n",
       "         ...,\n",
       "         [124, 120, 115],\n",
       "         [111, 110, 105],\n",
       "         [130, 130, 125]],\n",
       "\n",
       "        [[153, 141, 140],\n",
       "         [172, 171, 171],\n",
       "         [160, 158, 157],\n",
       "         ...,\n",
       "         [123, 120, 118],\n",
       "         [ 76,  72,  72],\n",
       "         [132, 126, 123]],\n",
       "\n",
       "        [[152, 143, 134],\n",
       "         [125, 124, 114],\n",
       "         [155, 147, 137],\n",
       "         ...,\n",
       "         [117, 111, 110],\n",
       "         [ 97,  93,  91],\n",
       "         [116, 109, 106]]],\n",
       "\n",
       "\n",
       "       [[[129, 125, 107],\n",
       "         [103, 107,  99],\n",
       "         [140, 143, 139],\n",
       "         ...,\n",
       "         [214, 187, 147],\n",
       "         [202, 178, 144],\n",
       "         [196, 171, 137]],\n",
       "\n",
       "        [[146, 143, 130],\n",
       "         [ 92,  99,  93],\n",
       "         [130, 138, 130],\n",
       "         ...,\n",
       "         [232, 203, 166],\n",
       "         [209, 188, 151],\n",
       "         [208, 188, 151]],\n",
       "\n",
       "        [[173, 171, 162],\n",
       "         [ 76,  87,  83],\n",
       "         [119, 130, 120],\n",
       "         ...,\n",
       "         [228, 199, 160],\n",
       "         [213, 186, 154],\n",
       "         [195, 168, 136]],\n",
       "\n",
       "        ...,\n",
       "\n",
       "        [[233, 237, 237],\n",
       "         [226, 230, 231],\n",
       "         [226, 230, 232],\n",
       "         ...,\n",
       "         [255, 255, 255],\n",
       "         [255, 255, 255],\n",
       "         [254, 254, 254]],\n",
       "\n",
       "        [[235, 236, 232],\n",
       "         [226, 228, 225],\n",
       "         [228, 230, 228],\n",
       "         ...,\n",
       "         [255, 255, 255],\n",
       "         [255, 255, 255],\n",
       "         [253, 253, 253]],\n",
       "\n",
       "        [[238, 239, 238],\n",
       "         [242, 244, 243],\n",
       "         [242, 242, 243],\n",
       "         ...,\n",
       "         [255, 255, 255],\n",
       "         [254, 254, 254],\n",
       "         [251, 251, 251]]],\n",
       "\n",
       "\n",
       "       [[[ 73,  97,  77],\n",
       "         [ 72,  90,  80],\n",
       "         [ 78,  89,  89],\n",
       "         ...,\n",
       "         [106, 120, 110],\n",
       "         [116, 132, 122],\n",
       "         [124, 140, 130]],\n",
       "\n",
       "        [[ 72,  93,  80],\n",
       "         [ 70,  90,  79],\n",
       "         [ 81, 101,  93],\n",
       "         ...,\n",
       "         [111, 125, 114],\n",
       "         [119, 132, 123],\n",
       "         [123, 137, 127]],\n",
       "\n",
       "        [[ 74,  93,  78],\n",
       "         [ 80, 103,  89],\n",
       "         [ 80, 107,  93],\n",
       "         ...,\n",
       "         [108, 121, 110],\n",
       "         [111, 124, 116],\n",
       "         [114, 127, 118]],\n",
       "\n",
       "        ...,\n",
       "\n",
       "        [[177, 196, 177],\n",
       "         [156, 177, 160],\n",
       "         [144, 165, 162],\n",
       "         ...,\n",
       "         [147, 176, 181],\n",
       "         [148, 179, 184],\n",
       "         [145, 176, 181]],\n",
       "\n",
       "        [[134, 163, 158],\n",
       "         [132, 161, 159],\n",
       "         [132, 161, 162],\n",
       "         ...,\n",
       "         [143, 176, 185],\n",
       "         [144, 176, 179],\n",
       "         [142, 177, 179]],\n",
       "\n",
       "        [[123, 151, 148],\n",
       "         [126, 155, 154],\n",
       "         [126, 156, 154],\n",
       "         ...,\n",
       "         [140, 175, 181],\n",
       "         [142, 174, 177],\n",
       "         [142, 176, 178]]],\n",
       "\n",
       "\n",
       "       ...,\n",
       "\n",
       "\n",
       "       [[[255, 255, 255],\n",
       "         [255, 255, 255],\n",
       "         [255, 255, 255],\n",
       "         ...,\n",
       "         [254, 254, 254],\n",
       "         [255, 255, 255],\n",
       "         [255, 255, 255]],\n",
       "\n",
       "        [[255, 255, 255],\n",
       "         [255, 255, 255],\n",
       "         [255, 255, 255],\n",
       "         ...,\n",
       "         [255, 255, 255],\n",
       "         [255, 255, 255],\n",
       "         [255, 255, 255]],\n",
       "\n",
       "        [[255, 255, 255],\n",
       "         [255, 255, 255],\n",
       "         [255, 255, 255],\n",
       "         ...,\n",
       "         [254, 254, 254],\n",
       "         [255, 255, 255],\n",
       "         [255, 255, 255]],\n",
       "\n",
       "        ...,\n",
       "\n",
       "        [[255, 255, 255],\n",
       "         [255, 255, 255],\n",
       "         [255, 255, 255],\n",
       "         ...,\n",
       "         [255, 255, 255],\n",
       "         [255, 255, 255],\n",
       "         [255, 255, 255]],\n",
       "\n",
       "        [[255, 255, 255],\n",
       "         [255, 255, 255],\n",
       "         [255, 255, 255],\n",
       "         ...,\n",
       "         [255, 255, 255],\n",
       "         [255, 255, 255],\n",
       "         [255, 255, 255]],\n",
       "\n",
       "        [[255, 255, 255],\n",
       "         [255, 255, 255],\n",
       "         [255, 255, 255],\n",
       "         ...,\n",
       "         [255, 255, 255],\n",
       "         [255, 255, 255],\n",
       "         [255, 255, 255]]],\n",
       "\n",
       "\n",
       "       [[[120, 108, 103],\n",
       "         [131, 120, 117],\n",
       "         [136, 126, 123],\n",
       "         ...,\n",
       "         [118, 161, 107],\n",
       "         [106, 131,  84],\n",
       "         [ 90, 101,  71]],\n",
       "\n",
       "        [[121, 107, 102],\n",
       "         [132, 119, 116],\n",
       "         [138, 125, 122],\n",
       "         ...,\n",
       "         [120, 163, 107],\n",
       "         [106, 132,  90],\n",
       "         [ 91, 102,  76]],\n",
       "\n",
       "        [[122, 107, 102],\n",
       "         [134, 119, 114],\n",
       "         [140, 127, 119],\n",
       "         ...,\n",
       "         [122, 165, 105],\n",
       "         [107, 133,  89],\n",
       "         [ 90, 103,  73]],\n",
       "\n",
       "        ...,\n",
       "\n",
       "        [[177, 140,  88],\n",
       "         [174, 138,  92],\n",
       "         [179, 146, 101],\n",
       "         ...,\n",
       "         [169, 164, 164],\n",
       "         [174, 168, 172],\n",
       "         [171, 165, 171]],\n",
       "\n",
       "        [[169, 135,  94],\n",
       "         [177, 142,  92],\n",
       "         [179, 144,  92],\n",
       "         ...,\n",
       "         [167, 159, 159],\n",
       "         [170, 163, 163],\n",
       "         [172, 165, 165]],\n",
       "\n",
       "        [[175, 141, 102],\n",
       "         [175, 140,  93],\n",
       "         [182, 148,  96],\n",
       "         ...,\n",
       "         [156, 146, 146],\n",
       "         [167, 158, 156],\n",
       "         [170, 162, 159]]],\n",
       "\n",
       "\n",
       "       [[[103, 124,  55],\n",
       "         [ 32,  45,  15],\n",
       "         [  7,  11,   9],\n",
       "         ...,\n",
       "         [  2,   5,   0],\n",
       "         [  3,   5,   0],\n",
       "         [ 11,  14,   6]],\n",
       "\n",
       "        [[ 58,  74,  36],\n",
       "         [ 40,  49,  29],\n",
       "         [ 17,  18,  22],\n",
       "         ...,\n",
       "         [  4,   7,   4],\n",
       "         [ 11,  14,  10],\n",
       "         [ 16,  19,  16]],\n",
       "\n",
       "        [[ 86, 113,  37],\n",
       "         [188, 205, 157],\n",
       "         [176, 191, 112],\n",
       "         ...,\n",
       "         [  8,  12,   7],\n",
       "         [ 14,  20,  12],\n",
       "         [ 22,  28,  19]],\n",
       "\n",
       "        ...,\n",
       "\n",
       "        [[216, 246, 150],\n",
       "         [171, 200, 131],\n",
       "         [ 34,  68,   7],\n",
       "         ...,\n",
       "         [104,  95,  81],\n",
       "         [ 94,  87,  72],\n",
       "         [112, 105,  90]],\n",
       "\n",
       "        [[150, 146, 126],\n",
       "         [136, 134, 113],\n",
       "         [113, 116,  93],\n",
       "         ...,\n",
       "         [ 91,  95,  65],\n",
       "         [103,  98,  77],\n",
       "         [116, 109,  91]],\n",
       "\n",
       "        [[145, 132, 129],\n",
       "         [147, 136, 134],\n",
       "         [145, 135, 134],\n",
       "         ...,\n",
       "         [ 79,  82,  53],\n",
       "         [ 91,  87,  63],\n",
       "         [119, 112,  93]]]], dtype=uint8)"
      ]
     },
     "execution_count": 35,
     "metadata": {},
     "output_type": "execute_result"
    }
   ],
   "source": [
    "X_train"
   ]
  },
  {
   "cell_type": "code",
   "execution_count": null,
   "metadata": {},
   "outputs": [],
   "source": []
  }
 ],
 "metadata": {
  "kernelspec": {
   "display_name": "Python 3",
   "language": "python",
   "name": "python3"
  },
  "language_info": {
   "codemirror_mode": {
    "name": "ipython",
    "version": 3
   },
   "file_extension": ".py",
   "mimetype": "text/x-python",
   "name": "python",
   "nbconvert_exporter": "python",
   "pygments_lexer": "ipython3",
   "version": "3.6.12"
  }
 },
 "nbformat": 4,
 "nbformat_minor": 4
}
